{
 "cells": [
  {
   "cell_type": "markdown",
   "metadata": {},
   "source": [
    "# false positive rate"
   ]
  },
  {
   "cell_type": "code",
   "execution_count": 65,
   "metadata": {},
   "outputs": [
    {
     "data": {
      "image/png": "[encoded data removed]",
      "text/plain": [
       "<Figure size 432x288 with 1 Axes>"
      ]
     },
     "metadata": {
      "needs_background": "light"
     },
     "output_type": "display_data"
    }
   ],
   "source": [
    "import numpy as np\n",
    "%matplotlib inline\n",
    "import matplotlib.pyplot as plt\n",
    "\n",
    "# μ, σ, N\n",
    "ok = np.random.normal(0.1, 0.03, 100000)\n",
    "ng = np.random.normal(0.6, 0.15, 100)\n",
    "\n",
    "trues = np.append( np.zeros(100000), np.ones(100) )\n",
    "preds = np.append(ok,ng)\n",
    "\n",
    "th = 0.2\n",
    "preds_bin = []\n",
    "for p in preds:\n",
    "    if p < th:\n",
    "        preds_bin.append(0)\n",
    "    else:\n",
    "        preds_bin.append(1)\n",
    "\n",
    "plt.hist([ok, ng], bins=50, label=[\"ok\",\"ng\"])\n",
    "plt.xlim((0, 1))\n",
    "\n",
    "plt.ylim((0, 100)) \n",
    "plt.legend(loc='upper right')\n",
    "plt.show()\n",
    "\n",
    "\n",
    "# # plt.hist(x, bins=50)\n",
    "# # filename=\"hist.png\"\n",
    "# # plt.savefig(filename)\n",
    "# # plt.show()\n",
    "\n",
    "# # plt.hist(x, bins=100)\n",
    "# # filename=\"hist.png\"\n",
    "# # plt.savefig(filename)\n",
    "# # plt.show()"
   ]
  },
  {
   "cell_type": "markdown",
   "metadata": {},
   "source": [
    "# false positive rate, 謎の過検出率問題"
   ]
  },
  {
   "cell_type": "markdown",
   "metadata": {},
   "source": [
    "|  | pred. NG | pred. OK |\n",
    "| :---: | :---: | :---: |\n",
    "| true NG | TP | FN |\n",
    "| true OK | FP | TN |"
   ]
  },
  {
   "cell_type": "markdown",
   "metadata": {},
   "source": [
    "$$\n",
    "FPR = \\frac{TP}{FP+TN=N_{OK} } \\\\\n",
    "謎の過検出率 = \\frac{TP}{N}\n",
    "$$"
   ]
  },
  {
   "cell_type": "code",
   "execution_count": 77,
   "metadata": {
    "scrolled": true
   },
   "outputs": [
    {
     "name": "stdout",
     "output_type": "stream",
     "text": [
      "99 1 36 99964\n",
      "[[   99     1]\n",
      " [   36 99964]]\n",
      "0.00099\n"
     ]
    }
   ],
   "source": [
    "from sklearn.metrics import confusion_matrix\n",
    "tp, fn ,fp,  tn = confusion_matrix( trues, preds_bin,labels=[1,0]).ravel()\n",
    "print(tp,  fn ,fp, tn)\n",
    "\n",
    "print(confusion_matrix(trues, preds_bin,labels=[1,0]) )\n",
    "FPR = tp / (fp + tn)\n",
    "print(FPR)"
   ]
  },
  {
   "cell_type": "markdown",
   "metadata": {},
   "source": [
    "# Bayes' theorem"
   ]
  },
  {
   "cell_type": "markdown",
   "metadata": {},
   "source": [
    "感度とは、臨床検査の性格を決める指標の1つで、ある検査について「陽性と判定されるべきものを正しく陽性と判定する確率」として定義される値で\n",
    "特異度（とくいど）とは、臨床検査の性格を決める指標の1つで、ある検査について「陰性のものを正しく陰性と判定する確率」"
   ]
  },
  {
   "cell_type": "markdown",
   "metadata": {},
   "source": [
    "1 : 9999\n",
    "OK,NGが製造される確率\n",
    "P(OK) =  9999 / 10000\n",
    "P(NG) =  1 / 10000\n",
    "\n",
    "99%の感度\n",
    "P( pred NG | OK) =  (9999/ 10000) *  (1/ 100)\n",
    "P( pred NG | NG) = "
   ]
  },
  {
   "cell_type": "code",
   "execution_count": 82,
   "metadata": {},
   "outputs": [
    {
     "name": "stdout",
     "output_type": "stream",
     "text": [
      "0.9999000000000001 0.0099\n"
     ]
    }
   ],
   "source": [
    "P_predNG_OK = (9999/ 10000) *  (1/ 100)\n",
    "P_predNG_NG = (1/ 10000) *  (99/ 100)\n",
    "\n",
    "print(P_predNG_OK*100, P_predNG_NG*100)"
   ]
  },
  {
   "cell_type": "code",
   "execution_count": 84,
   "metadata": {},
   "outputs": [
    {
     "name": "stdout",
     "output_type": "stream",
     "text": [
      "0.9901960784313727\n",
      "0.00980392156862745\n"
     ]
    }
   ],
   "source": [
    "print( 0.9999000000000001/ ( 0.9999000000000001+ 0.0099 ) )\n",
    "print( 0.0099 / ( 0.9999000000000001+ 0.0099 ) )"
   ]
  },
  {
   "cell_type": "markdown",
   "metadata": {},
   "source": [
    "NG→NG 0.99%\n",
    "100個NGと判定されて本当にNGの場合は1/100個"
   ]
  },
  {
   "cell_type": "markdown",
   "metadata": {},
   "source": [
    "# Cという病気の罹患率の例\n",
    "\n",
    "Cという病気の罹患率0.1%\n",
    "95%の確率で陽性と診断できる.  \n",
    "2%の確率で陽性と誤診される．  \n",
    "検査で陽性と診断された場合，Cに罹患している確率．\n",
    "\n",
    "|  | 陽性 | 陰性 |\n",
    "| :---: | :---: | :---: |\n",
    "| 罹患 | 0.95 | 0.05 |\n",
    "| 未罹患 | 0.02 | 0.98 |"
   ]
  },
  {
   "cell_type": "markdown",
   "metadata": {},
   "source": [
    "P( 罹患 ) = 1 / 1000  \n",
    "P( 未罹患 ) =  999 / 1000\n",
    "\n",
    "陽性と判定された場合，  \n",
    "P( 陽性 | 罹患 ) = 0.95 * ( 1 / 1000 )\n",
    "P( 陽性 | 未罹患) = 0.05 * ( 999 / 1000)\n",
    "\n",
    "陽性と判定された人の比率を考える.  \n",
    "P( 陽性 | 罹患 ) :  P( 陽性 | 未罹患 ) = 95 / 100000 : 5 * 999  / 100000  \n",
    "=95 : 4995\n",
    "\n",
    "陽性と判定されて，実際に罹患している割合\n",
    "95/4995 = 1.9%"
   ]
  },
  {
   "cell_type": "markdown",
   "metadata": {},
   "source": [
    "#  未検出率0%, 過検出率1%未満の例\n",
    "\n",
    "|  | pred. NG | pred. OK |\n",
    "| :---: | :---: | :---: |\n",
    "| true NG | TP | FN |\n",
    "| true OK | FP | TN |\n",
    "\n",
    "|  | pred. NG | pred. OK |\n",
    "| :---: | :---: | :---: |\n",
    "| true NG | 1.0 | 0 |\n",
    "| true OK | 0.01 | 99.9 |"
   ]
  },
  {
   "cell_type": "markdown",
   "metadata": {},
   "source": [
    "実際の1/1000でNG発生  \n",
    "\n",
    "P( true NG ) = 1 / 1000  \n",
    "P( true OK ) =  999 / 1000\n",
    "\n",
    "陽性と判定された場合，  \n",
    "P( pred NG | tue NG ) = 1.0 * ( 1 / 1000 )\n",
    "P( pred NG | true OK ) = 0.01 * ( 999 / 1000)\n",
    "\n",
    "陽性と判定された人の比率を考える.  \n",
    "P( 陽性 | 罹患 ) :  P( 陽性 | 未罹患 ) = 100 / 100000 : 1 * 999 / 100000  \n",
    "= 100 : 999\n",
    "\n",
    "陽性と判定されて，実際に罹患している割合\n",
    "100 / (100 + 999 ) =  9.09%\n",
    "\n",
    "つまり，NGと判定したもののうち, 100個中91個はOK"
   ]
  },
  {
   "cell_type": "markdown",
   "metadata": {},
   "source": [
    "# 1000個製造してNG１個  \n",
    "# 謎検出率の場合\n",
    "\n",
    "未検出率，過検出率1%\n",
    "\n",
    "$$\n",
    "謎の過検出率 = \\frac{TP}{N}\n",
    "$$\n",
    "\n",
    "1000個製造してNG１個  \n",
    "未検出率，過検出率1%\n",
    "\n",
    "|  | pred. NG | pred. OK |\n",
    "| :---: | :---: | :---: |\n",
    "| true NG | 1 | 0  |\n",
    "| true OK | 10 | 989 |"
   ]
  },
  {
   "cell_type": "markdown",
   "metadata": {},
   "source": [
    "# Falise Positive Rate\n",
    "\n",
    "1000個製造してNG１個  \n",
    "未検出率，過検出率1%\n",
    "\n",
    "$$\n",
    "FPR = \\frac{TP}{FP+TN=N_{OK} } \\\\\n",
    "$$\n",
    "\n",
    "|  | pred. NG | pred. OK |\n",
    "| :---: | :---: | :---: |\n",
    "| true NG | 1 | 0  |\n",
    "| true OK | 9.9 | 990.1 |"
   ]
  },
  {
   "cell_type": "markdown",
   "metadata": {},
   "source": [
    "# NG1個はまずいんじゃね？\n",
    "# OK : NG = 9000 : 1000\n",
    "\n",
    "# 謎検出率の場合\n",
    "\n",
    "$$\n",
    "謎の過検出率 = \\frac{TP}{N}\n",
    "$$\n",
    "\n",
    "1000個製造してNG１個  \n",
    "未検出率，過検出率1%\n",
    "\n",
    "|  | pred. NG | pred. OK |\n",
    "| :---: | :---: | :---: |\n",
    "| true NG | 1000 | 0  |\n",
    "| true OK | 100 | 8900 |\n",
    "\n",
    "\n",
    "\n",
    "# Falise Positive Rate\n",
    "\n",
    "1000個製造してNG１個  \n",
    "未検出率，過検出率1%\n",
    "\n",
    "$$\n",
    "FPR = \\frac{TP}{FP+TN=N_{OK} } \\\\\n",
    "$$\n",
    "\n",
    "|  | pred. NG | pred. OK |\n",
    "| :---: | :---: | :---: |\n",
    "| true NG | 1000 | 0  |\n",
    "| true OK | 90 | 8910  |"
   ]
  },
  {
   "cell_type": "code",
   "execution_count": null,
   "metadata": {},
   "outputs": [],
   "source": [
    "a + b = 9000\n",
    "a / (a+b) = 1\n",
    "a = a + a"
   ]
  },
  {
   "cell_type": "markdown",
   "metadata": {},
   "source": [
    "# 現状の検査精度\n",
    "# 疲れたので保留\n",
    "\n",
    "|  | pred. NG | pred. OK |\n",
    "| :---: | :---: | :---: |\n",
    "| true NG |  |  |\n",
    "| true OK |  |  |"
   ]
  },
  {
   "cell_type": "code",
   "execution_count": null,
   "metadata": {},
   "outputs": [],
   "source": []
  }
 ],
 "metadata": {
  "kernelspec": {
   "display_name": "Python 3",
   "language": "python",
   "name": "python3"
  },
  "language_info": {
   "codemirror_mode": {
    "name": "ipython",
    "version": 3
   },
   "file_extension": ".py",
   "mimetype": "text/x-python",
   "name": "python",
   "nbconvert_exporter": "python",
   "pygments_lexer": "ipython3",
   "version": "3.6.7"
  }
 },
 "nbformat": 4,
 "nbformat_minor": 2
}
